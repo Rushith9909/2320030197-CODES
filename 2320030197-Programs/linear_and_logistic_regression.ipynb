{
  "nbformat": 4,
  "nbformat_minor": 0,
  "metadata": {
    "colab": {
      "provenance": []
    },
    "kernelspec": {
      "name": "python3",
      "display_name": "Python 3"
    },
    "language_info": {
      "name": "python"
    }
  },
  "cells": [
    {
      "cell_type": "code",
      "execution_count": 3,
      "metadata": {
        "colab": {
          "base_uri": "https://localhost:8080/"
        },
        "id": "KT6RkemTrNA_",
        "outputId": "9ab512ae-400f-408e-ae65-6a3b246bcdea"
      },
      "outputs": [
        {
          "output_type": "stream",
          "name": "stdout",
          "text": [
            "Linear Regression Mean Squared Error: 0.1322314049586781\n",
            "Logistic Regression Accuracy: 1.0\n"
          ]
        }
      ],
      "source": [
        "import numpy as np\n",
        "import pandas as pd\n",
        "from sklearn.model_selection import train_test_split\n",
        "from sklearn.linear_model import LinearRegression, LogisticRegression\n",
        "from sklearn.metrics import mean_squared_error, accuracy_score\n",
        "\n",
        "data = {'x1': [1, 2, 3, 4, 5],\n",
        "        'x2': [2, 4, 5, 4, 5],\n",
        "        'y': [3, 5, 7, 7, 9]}\n",
        "df = pd.DataFrame(data)\n",
        "\n",
        "X = df[['x1', 'x2']]\n",
        "y = df['y']\n",
        "\n",
        "X_train, X_test, y_train, y_test = train_test_split(X, y, test_size=0.2, random_state=42)\n",
        "\n",
        "linear_reg = LinearRegression()\n",
        "linear_reg.fit(X_train, y_train)\n",
        "\n",
        "y_pred_linear = linear_reg.predict(X_test)\n",
        "\n",
        "mse = mean_squared_error(y_test, y_pred_linear)\n",
        "print(\"Linear Regression Mean Squared Error:\", mse)\n",
        "\n",
        "data_logistic = {'x1': [1, 2, 3, 4, 5, 6, 7, 8, 9, 10],\n",
        "                 'x2': [2, 4, 5, 4, 5, 6, 7, 8, 9, 10],\n",
        "                 'y': [0, 0, 0, 0, 1, 1, 1, 1, 1, 1]}\n",
        "df_logistic = pd.DataFrame(data_logistic)\n",
        "\n",
        "X_logistic = df_logistic[['x1', 'x2']]\n",
        "y_logistic = df_logistic['y']\n",
        "\n",
        "X_train_logistic, X_test_logistic, y_train_logistic, y_test_logistic = train_test_split(\n",
        "    X_logistic, y_logistic, test_size=0.2, random_state=42)\n",
        "\n",
        "logistic_reg = LogisticRegression()\n",
        "logistic_reg.fit(X_train_logistic, y_train_logistic)\n",
        "\n",
        "y_pred_logistic = logistic_reg.predict(X_test_logistic)\n",
        "\n",
        "accuracy = accuracy_score(y_test_logistic, y_pred_logistic)\n",
        "print(\"Logistic Regression Accuracy:\", accuracy)"
      ]
    },
    {
      "cell_type": "code",
      "source": [
        "import numpy as np\n",
        "import pandas as pd\n",
        "from sklearn.model_selection import train_test_split\n",
        "from sklearn.linear_model import LinearRegression, LogisticRegression\n",
        "from sklearn.metrics import mean_squared_error, accuracy_score\n",
        "\n",
        "data_linear = {'x1': [1, 2, 3, 4, 5, 6, 7, 8, 9, 10],\n",
        "              'x2': [2, 4, 5, 4, 5, 6, 7, 8, 9, 10],\n",
        "              'y': [3, 5, 7, 7, 9, 11, 13, 15, 17, 19]}\n",
        "df_linear = pd.DataFrame(data_linear)\n",
        "\n",
        "X_linear = df_linear[['x1', 'x2']]\n",
        "y_linear = df_linear['y']\n",
        "\n",
        "X_train_linear, X_test_linear, y_train_linear, y_test_linear = train_test_split(\n",
        "    X_linear, y_linear, test_size=0.2, random_state=42)\n",
        "\n",
        "linear_reg = LinearRegression()\n",
        "linear_reg.fit(X_train_linear, y_train_linear)\n",
        "\n",
        "y_pred_linear = linear_reg.predict(X_test_linear)\n",
        "\n",
        "mse = mean_squared_error(y_test_linear, y_pred_linear)\n",
        "print(\"Linear Regression Mean Squared Error:\", mse)\n",
        "\n",
        "data_logistic = {'x1': [1, 2, 3, 4, 5, 6, 7, 8, 9, 10],\n",
        "                 'x2': [2, 4, 5, 4, 5, 6, 7, 8, 9, 10],\n",
        "                 'y': [0, 0, 0, 0, 1, 1, 1, 1, 1, 1]}\n",
        "df_logistic = pd.DataFrame(data_logistic)\n",
        "\n",
        "X_logistic = df_logistic[['x1', 'x2']]\n",
        "y_logistic = df_logistic['y']\n",
        "\n",
        "X_train_logistic, X_test_logistic, y_train_logistic, y_test_logistic = train_test_split(\n",
        "    X_logistic, y_logistic, test_size=0.2, random_state=42)\n",
        "\n",
        "logistic_reg = LogisticRegression()\n",
        "logistic_reg.fit(X_train_logistic, y_train_logistic)\n",
        "\n",
        "y_pred_logistic = logistic_reg.predict(X_test_logistic)\n",
        "\n",
        "accuracy = accuracy_score(y_test_logistic, y_pred_logistic)\n",
        "print(\"Logistic Regression Accuracy:\", accuracy)"
      ],
      "metadata": {
        "colab": {
          "base_uri": "https://localhost:8080/"
        },
        "id": "ibyZ7rtHrYSA",
        "outputId": "f9394845-5c2d-49c8-97f9-cdc8edd43733"
      },
      "execution_count": 2,
      "outputs": [
        {
          "output_type": "stream",
          "name": "stdout",
          "text": [
            "Linear Regression Mean Squared Error: 0.07195174196044724\n",
            "Logistic Regression Accuracy: 1.0\n"
          ]
        }
      ]
    }
  ]
}