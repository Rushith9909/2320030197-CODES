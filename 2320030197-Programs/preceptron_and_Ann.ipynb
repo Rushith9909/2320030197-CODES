{
  "nbformat": 4,
  "nbformat_minor": 0,
  "metadata": {
    "colab": {
      "provenance": []
    },
    "kernelspec": {
      "name": "python3",
      "display_name": "Python 3"
    },
    "language_info": {
      "name": "python"
    }
  },
  "cells": [
    {
      "cell_type": "code",
      "execution_count": 2,
      "metadata": {
        "colab": {
          "base_uri": "https://localhost:8080/"
        },
        "id": "OqHS2PDls-xn",
        "outputId": "4c06d57f-ea53-426b-e7c9-17d025b25a4d"
      },
      "outputs": [
        {
          "output_type": "stream",
          "name": "stdout",
          "text": [
            "Predictions: [0 0 0 1]\n"
          ]
        }
      ],
      "source": [
        "import numpy as np\n",
        "\n",
        "class Perceptron:\n",
        "    def __init__(self, learning_rate=0.01, n_iter=1000):\n",
        "        self.learning_rate = learning_rate\n",
        "        self.n_iter = n_iter\n",
        "        self.weights = None\n",
        "        self.bias = None\n",
        "\n",
        "    def fit(self, X, y):\n",
        "        n_samples, n_features = X.shape\n",
        "        self.weights = np.zeros(n_features)\n",
        "        self.bias = 0\n",
        "\n",
        "        for _ in range(self.n_iter):\n",
        "            for idx, x_i in enumerate(X):\n",
        "                linear_output = np.dot(x_i, self.weights) + self.bias\n",
        "                y_predicted = self.activation_function(linear_output)\n",
        "\n",
        "                update = self.learning_rate * (y[idx] - y_predicted)\n",
        "                self.weights += update * x_i\n",
        "                self.bias += update\n",
        "\n",
        "    def activation_function(self, x):\n",
        "        return np.where(x >= 0, 1, 0)\n",
        "\n",
        "    def predict(self, X):\n",
        "        linear_output = np.dot(X, self.weights) + self.bias\n",
        "        return self.activation_function(linear_output)\n",
        "\n",
        "if __name__ == \"__main__\":\n",
        "    X = np.array([[0, 0], [0, 1], [1, 0], [1, 1]])\n",
        "    y = np.array([0, 0, 0, 1])\n",
        "\n",
        "    perceptron = Perceptron(learning_rate=0.1, n_iter=10)\n",
        "    perceptron.fit(X, y)\n",
        "    predictions = perceptron.predict(X)\n",
        "    print(\"Predictions:\", predictions)\n"
      ]
    },
    {
      "cell_type": "code",
      "source": [
        "import numpy as np\n",
        "\n",
        "class ANN:\n",
        "    def __init__(self, input_size, hidden_size, output_size, learning_rate=0.01):\n",
        "        self.learning_rate = learning_rate\n",
        "        self.weights_input_hidden = np.random.rand(input_size, hidden_size)\n",
        "        self.weights_hidden_output = np.random.rand(hidden_size, output_size)\n",
        "\n",
        "    def sigmoid(self, x):\n",
        "        return 1 / (1 + np.exp(-x))\n",
        "\n",
        "    def sigmoid_derivative(self, x):\n",
        "        return x * (1 - x)\n",
        "\n",
        "    def forward(self, X):\n",
        "        self.hidden_layer_activation = np.dot(X, self.weights_input_hidden)\n",
        "        self.hidden_layer_output = self.sigmoid(self.hidden_layer_activation)\n",
        "\n",
        "        self.output_layer_activation = np.dot(self.hidden_layer_output, self.weights_hidden_output)\n",
        "        self.output = self.sigmoid(self.output_layer_activation)\n",
        "        return self.output\n",
        "\n",
        "    def backward(self, X, y):\n",
        "        output_error = y - self.output\n",
        "        output_delta = output_error * self.sigmoid_derivative(self.output)\n",
        "\n",
        "        hidden_layer_error = output_delta.dot(self.weights_hidden_output.T)\n",
        "        hidden_layer_delta = hidden_layer_error * self.sigmoid_derivative(self.hidden_layer_output)\n",
        "\n",
        "        self.weights_hidden_output += self.hidden_layer_output.T.dot(output_delta) * self.learning_rate\n",
        "        self.weights_input_hidden += X.T.dot(hidden_layer_delta) * self.learning_rate\n",
        "\n",
        "    def train(self, X, y, epochs):\n",
        "        for _ in range(epochs):\n",
        "            self.forward(X)\n",
        "            self.backward(X, y)\n",
        "\n",
        "if __name__ == \"__main__\":\n",
        "    X = np.array([[0, 0], [0, 1], [1, 0], [1, 1]])\n",
        "    y = np.array([[0], [1], [1], [0]])\n",
        "\n",
        "    ann = ANN(input_size=2, hidden_size=2, output_size=1, learning_rate=0.1)\n",
        "    ann.train(X, y, epochs=10000)\n",
        "    predictions = ann.forward(X)\n",
        "    print(\"Predictions:\", predictions)\n"
      ],
      "metadata": {
        "colab": {
          "base_uri": "https://localhost:8080/"
        },
        "id": "CR8iqHTktmQb",
        "outputId": "7a53c77b-b401-4344-e5a7-c6d94d0d05f5"
      },
      "execution_count": 4,
      "outputs": [
        {
          "output_type": "stream",
          "name": "stdout",
          "text": [
            "Predictions: [[0.20488568]\n",
            " [0.73500081]\n",
            " [0.73499517]\n",
            " [0.34500538]]\n"
          ]
        }
      ]
    }
  ]
}