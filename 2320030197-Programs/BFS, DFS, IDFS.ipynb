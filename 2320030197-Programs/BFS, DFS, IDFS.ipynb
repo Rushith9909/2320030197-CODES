{
  "nbformat": 4,
  "nbformat_minor": 0,
  "metadata": {
    "colab": {
      "provenance": []
    },
    "kernelspec": {
      "name": "python3",
      "display_name": "Python 3"
    },
    "language_info": {
      "name": "python"
    }
  },
  "cells": [
    {
      "cell_type": "code",
      "source": [
        "#Program for breadth first search\n",
        "\n",
        "from collections import defaultdict\n",
        "\n",
        "class Graph:\n",
        "    def __init__(self):\n",
        "        self.graph = defaultdict(list)\n",
        "\n",
        "    def add_edge(self, u, v):\n",
        "        self.graph[u].append(v)\n",
        "\n",
        "    def bfs(self, start_node):\n",
        "        visited = [False] * (len(self.graph))\n",
        "        queue = []\n",
        "        visited[start_node] = True\n",
        "        queue.append(start_node)\n",
        "\n",
        "        while queue:\n",
        "          s = queue.pop(0)\n",
        "          print(s, end=\" \")\n",
        "\n",
        "          for i in self.graph[s]:\n",
        "            if visited[i] == False:\n",
        "              visited[i] = True\n",
        "              queue.append(i)\n",
        "\n",
        "g = Graph()\n",
        "g.add_edge(0, 1)\n",
        "g.add_edge(0, 2)\n",
        "g.add_edge(1, 2)\n",
        "g.add_edge(2, 0)\n",
        "g.add_edge(2, 3)\n",
        "g.add_edge(3, 3)\n",
        "\n",
        "print(\"Breadth First Search\")\n",
        "g.bfs(2)\n"
      ],
      "metadata": {
        "colab": {
          "base_uri": "https://localhost:8080/"
        },
        "id": "lkLn4JYmJL3y",
        "outputId": "aded3e22-c4b9-4036-80d3-30ebc50bb541"
      },
      "execution_count": null,
      "outputs": [
        {
          "output_type": "stream",
          "name": "stdout",
          "text": [
            "Breadth First Search\n",
            "2 0 3 1 "
          ]
        }
      ]
    },
    {
      "cell_type": "code",
      "source": [
        "#Program for depth first search\n",
        "\n",
        "from collections import defaultdict\n",
        "\n",
        "class Graph:\n",
        "    def __init__(self):\n",
        "        self.graph = defaultdict(list)\n",
        "\n",
        "    def add_edge(self, u, v):\n",
        "        self.graph[u].append(v)\n",
        "\n",
        "    def dfs_util(self, v, visited):\n",
        "        visited[v] = True\n",
        "        print(v, end=\" \")\n",
        "\n",
        "        for neighbour in self.graph[v]:\n",
        "            if visited[neighbour] == False:\n",
        "                self.dfs_util(neighbour, visited)\n",
        "\n",
        "    def dfs(self, start_node):\n",
        "        num_vertices = len(self.graph)\n",
        "        visited = [False] * num_vertices\n",
        "        self.dfs_util(start_node, visited)\n",
        "\n",
        "g = Graph()\n",
        "g.add_edge(0, 1)\n",
        "g.add_edge(0, 2)\n",
        "g.add_edge(1, 2)\n",
        "g.add_edge(2, 0)\n",
        "g.add_edge(2, 3)\n",
        "g.add_edge(3, 3)\n",
        "\n",
        "print(\"\\nDepth First Search\")\n",
        "g.dfs(2)\n"
      ],
      "metadata": {
        "colab": {
          "base_uri": "https://localhost:8080/"
        },
        "id": "-ZARcT2zKFnj",
        "outputId": "2a33abd4-64b3-46e1-97f2-6b7e133aef47"
      },
      "execution_count": null,
      "outputs": [
        {
          "output_type": "stream",
          "name": "stdout",
          "text": [
            "\n",
            "Depth First Search\n",
            "2 0 1 3 "
          ]
        }
      ]
    },
    {
      "cell_type": "code",
      "source": [
        "#Program for iterative deepening search\n",
        "\n",
        "from collections import defaultdict\n",
        "\n",
        "class Graph:\n",
        "    def __init__(self):\n",
        "        self.graph = defaultdict(list)\n",
        "\n",
        "    def add_edge(self, u, v):\n",
        "        self.graph[u].append(v)\n",
        "\n",
        "    def DLS(self, src, target, maxDepth):\n",
        "        if src == target:\n",
        "            return True\n",
        "\n",
        "        if maxDepth <= 0:\n",
        "            return False\n",
        "\n",
        "        for i in self.graph[src]:\n",
        "            if self.DLS(i, target, maxDepth - 1):\n",
        "                return True\n",
        "        return False\n",
        "\n",
        "    def IDDFS(self, src, target, maxDepth):\n",
        "        for i in range(maxDepth):\n",
        "            if self.DLS(src, target, i):\n",
        "                return True\n",
        "        return False\n",
        "\n",
        "g = Graph()\n",
        "g.add_edge(0, 1)\n",
        "g.add_edge(0, 2)\n",
        "g.add_edge(1, 2)\n",
        "g.add_edge(2, 0)\n",
        "g.add_edge(2, 3)\n",
        "g.add_edge(3, 3)\n",
        "\n",
        "target = 3\n",
        "maxDepth = 3\n",
        "src = 2\n",
        "\n",
        "if g.IDDFS(src, target, maxDepth) == True:\n",
        "    print(\"Target is reachable from source \" +\n",
        "          \"within max depth\")\n",
        "else:\n",
        "    print(\"Target is NOT reachable from source \" +\n",
        "          \"within max depth\")\n"
      ],
      "metadata": {
        "colab": {
          "base_uri": "https://localhost:8080/"
        },
        "id": "tOQGxmbUKZ5o",
        "outputId": "8f4c756f-b970-49c0-fcfc-37b24689053f"
      },
      "execution_count": null,
      "outputs": [
        {
          "output_type": "stream",
          "name": "stdout",
          "text": [
            "Target is reachable from source within max depth\n"
          ]
        }
      ]
    },
    {
      "cell_type": "code",
      "source": [
        "#Program for best first search\n",
        "\n",
        "from queue import PriorityQueue\n",
        "\n",
        "class Graph:\n",
        "    def __init__(self):\n",
        "        self.graph = {}\n",
        "\n",
        "    def add_edge(self, u, v, cost):\n",
        "        if u not in self.graph:\n",
        "            self.graph[u] = []\n",
        "        self.graph[u].append((v, cost))\n",
        "\n",
        "    def best_first_search(self, start_node, goal_node):\n",
        "        queue = PriorityQueue()\n",
        "        queue.put((0, start_node))\n",
        "        visited = []\n",
        "\n",
        "        while not queue.empty():\n",
        "            current_cost, current_node = queue.get()\n",
        "            if current_node not in visited:\n",
        "                visited.append(current_node)\n",
        "                print(current_node, end=\" \")\n",
        "                if current_node == goal_node:\n",
        "                    break\n",
        "                for neighbor, cost in self.graph.get(current_node, []):\n",
        "                    if neighbor not in visited:\n",
        "                        queue.put((cost, neighbor))\n",
        "        print()\n",
        "\n",
        "g = Graph()\n",
        "g.add_edge('A', 'B', 4)\n",
        "g.add_edge('A', 'C', 2)\n",
        "g.add_edge('B', 'D', 5)\n",
        "g.add_edge('B', 'E', 12)\n",
        "g.add_edge('C', 'F', 10)\n",
        "g.add_edge('C', 'G', 5)\n",
        "\n",
        "print(\"Best First Search\")\n",
        "g.best_first_search('A', 'G')\n"
      ],
      "metadata": {
        "colab": {
          "base_uri": "https://localhost:8080/"
        },
        "id": "K6_xu5hhKs6I",
        "outputId": "96eb4f0b-3d64-4610-d5d3-d101ac8bbdda"
      },
      "execution_count": null,
      "outputs": [
        {
          "output_type": "stream",
          "name": "stdout",
          "text": [
            "Best First Search\n",
            "A C B D G \n"
          ]
        }
      ]
    },
    {
      "cell_type": "code",
      "source": [
        "#Program for min - max\n",
        "\n",
        "def minimax(current_depth, node_index,\n",
        "            max_turn, scores, target_depth):\n",
        "\n",
        "    if current_depth == target_depth:\n",
        "        return scores[node_index]\n",
        "\n",
        "    if max_turn:\n",
        "        return max(minimax(current_depth + 1, node_index * 2,\n",
        "                            False, scores, target_depth),\n",
        "                   minimax(current_depth + 1, node_index * 2 + 1,\n",
        "                            False, scores, target_depth))\n",
        "    else:\n",
        "        return min(minimax(current_depth + 1, node_index * 2,\n",
        "                            True, scores, target_depth),\n",
        "                   minimax(current_depth + 1, node_index * 2 + 1,\n",
        "                            True, scores, target_depth))\n",
        "\n",
        "scores = [3, 5, 2, 9, 12, 5, 23, 23]\n",
        "tree_depth = 3\n",
        "print(\"The optimal value is :\", minimax(0, 0, True, scores, tree_depth))\n"
      ],
      "metadata": {
        "colab": {
          "base_uri": "https://localhost:8080/"
        },
        "id": "kGnrAanYK-cR",
        "outputId": "f416505b-f315-44bc-ae85-8b2d24541091"
      },
      "execution_count": null,
      "outputs": [
        {
          "output_type": "stream",
          "name": "stdout",
          "text": [
            "The optimal value is : 12\n"
          ]
        }
      ]
    },
    {
      "cell_type": "code",
      "source": [
        "#Program for A*\n",
        "import heapq\n",
        "\n",
        "def heuristic(a, b):\n",
        "    return abs(a[0] - b[0]) + abs(a[1] - b[1])\n",
        "\n",
        "def astar(start, goal, grid):\n",
        "    neighbors = [(0, 1), (0, -1), (1, 0), (-1, 0)]\n",
        "    close_set = set()\n",
        "    came_from = {}\n",
        "    gscore = {start: 0}\n",
        "    fscore = {start: heuristic(start, goal)}\n",
        "    oheap = []\n",
        "\n",
        "    heapq.heappush(oheap, (fscore[start], start))\n",
        "\n",
        "    while oheap:\n",
        "        current = heapq.heappop(oheap)[1]\n",
        "\n",
        "        if current == goal:\n",
        "            data = []\n",
        "            while current in came_from:\n",
        "                data.append(current)\n",
        "                current = came_from[current]\n",
        "            return data[::-1]\n",
        "\n",
        "        close_set.add(current)\n",
        "        for i, j in neighbors:\n",
        "            neighbor = current[0] + i, current[1] + j\n",
        "            tentative_g_score = gscore[current] + 1\n",
        "\n",
        "            if 0 <= neighbor[0] < len(grid):\n",
        "                if 0 <= neighbor[1] < len(grid[0]):\n",
        "                    if grid[neighbor[0]][neighbor[1]] == 1:\n",
        "                        continue\n",
        "                else:\n",
        "                    continue\n",
        "            else:\n",
        "                continue\n",
        "\n",
        "            if neighbor in close_set and tentative_g_score >= gscore.get(neighbor, 0):\n",
        "                continue\n",
        "\n",
        "            if tentative_g_score < gscore.get(neighbor, 0) or neighbor not in [i[1] for i in oheap]:\n",
        "                came_from[neighbor] = current\n",
        "                gscore[neighbor] = tentative_g_score\n",
        "                fscore[neighbor] = tentative_g_score + heuristic(neighbor, goal)\n",
        "                heapq.heappush(oheap, (fscore[neighbor], neighbor))\n",
        "\n",
        "    return False\n",
        "\n",
        "# Example usage:\n",
        "start = (0, 0)\n",
        "goal = (4, 4)\n",
        "grid = [\n",
        "    [0, 1, 0, 0, 0],\n",
        "    [0, 1, 0, 1, 0],\n",
        "    [0, 0, 0, 1, 0],\n",
        "    [0, 1, 1, 1, 0],\n",
        "    [0, 0, 0, 0, 0]\n",
        "]\n",
        "\n",
        "path = astar(start, goal, grid)\n",
        "print(path)\n"
      ],
      "metadata": {
        "colab": {
          "base_uri": "https://localhost:8080/"
        },
        "id": "cCwV3ReLLLWb",
        "outputId": "d83b22bd-caba-4f45-8a88-2cc239343e3e"
      },
      "execution_count": null,
      "outputs": [
        {
          "output_type": "stream",
          "name": "stdout",
          "text": [
            "[(1, 0), (2, 0), (3, 0), (4, 0), (4, 1), (4, 2), (4, 3), (4, 4)]\n"
          ]
        }
      ]
    },
    {
      "cell_type": "code",
      "source": [
        "#Program for least cost\n",
        "\n",
        "import heapq\n",
        "\n",
        "def least_cost_path(graph, start, goal):\n",
        "\n",
        "    queue = [(0, start, [])]\n",
        "    visited = set()\n",
        "\n",
        "    while queue:\n",
        "        cost, current, path = heapq.heappop(queue)\n",
        "        if current == goal:\n",
        "            return path + [current], cost\n",
        "        if current in visited:\n",
        "            continue\n",
        "        visited.add(current)\n",
        "        for neighbor, neighbor_cost in graph[current].items():\n",
        "            heapq.heappush(queue, (cost + neighbor_cost, neighbor, path + [current]))\n",
        "\n",
        "    return None, float('inf')\n",
        "\n",
        "graph = {\n",
        "    'A': {'B': 4, 'C': 2},\n",
        "    'B': {'D': 5, 'E': 12},\n",
        "    'C': {'F': 10, 'G': 5},\n",
        "    'D': {},\n",
        "    'E': {},\n",
        "    'F': {},\n",
        "    'G': {}\n",
        "}\n",
        "start_node = 'A'\n",
        "goal_node = 'G'\n",
        "\n",
        "path, cost = least_cost_path(graph, start_node, goal_node)\n",
        "print(\"Least cost path:\", path)\n",
        "print(\"Total cost:\", cost)\n"
      ],
      "metadata": {
        "colab": {
          "base_uri": "https://localhost:8080/"
        },
        "id": "Qoo5Ee7dLvCO",
        "outputId": "111c8e49-a5f8-479c-da23-2594c967c79d"
      },
      "execution_count": null,
      "outputs": [
        {
          "output_type": "stream",
          "name": "stdout",
          "text": [
            "Least cost path: ['A', 'C', 'G']\n",
            "Total cost: 7\n"
          ]
        }
      ]
    },
    {
      "cell_type": "code",
      "source": [
        "#Program for alpha beta\n",
        "\n",
        "def alpha_beta_pruning(node, depth, alpha, beta, maximizing_player, values):\n",
        "    if depth == 0 or node >= len(values):\n",
        "        return values[node]\n",
        "\n",
        "    if maximizing_player:\n",
        "        best = -float('inf')\n",
        "        for i in range(2):\n",
        "            value = alpha_beta_pruning(node * 2 + i, depth - 1, alpha, beta, False, values)\n",
        "            best = max(best, value)\n",
        "            alpha = max(alpha, best)\n",
        "            if beta <= alpha:\n",
        "                break\n",
        "        return best\n",
        "    else:\n",
        "        best = float('inf')\n",
        "        for i in range(2):\n",
        "            value = alpha_beta_pruning(node * 2 + i, depth - 1, alpha, beta, True, values)\n",
        "            best = min(best, value)\n",
        "            beta = min(beta, best)\n",
        "            if beta <= alpha:\n",
        "                break\n",
        "        return best\n",
        "\n",
        "values = [3, 5, 6, 9, 1, 2, 0, -1]\n",
        "tree_depth = 3\n",
        "print(\"The optimal value is :\", alpha_beta_pruning(0, tree_depth, -float('inf'), float('inf'), True, values))\n"
      ],
      "metadata": {
        "colab": {
          "base_uri": "https://localhost:8080/"
        },
        "id": "Afa8xp5fMD9m",
        "outputId": "bc1aad7c-8267-4eec-9524-998194994f89"
      },
      "execution_count": null,
      "outputs": [
        {
          "output_type": "stream",
          "name": "stdout",
          "text": [
            "The optimal value is : 5\n"
          ]
        }
      ]
    },
    {
      "cell_type": "code",
      "source": [
        "#Program for bi-directional\n",
        "\n",
        "from collections import defaultdict\n",
        "\n",
        "class Graph:\n",
        "    def __init__(self):\n",
        "        self.graph = defaultdict(list)\n",
        "\n",
        "    def add_edge(self, u, v):\n",
        "        self.graph[u].append(v)\n",
        "        self.graph[v].append(u)\n",
        "\n",
        "    def bidirectional_search(self, start, goal):\n",
        "        start_queue = [start]\n",
        "        start_visited = {start}\n",
        "        goal_queue = [goal]\n",
        "        goal_visited = {goal}\n",
        "\n",
        "        while start_queue and goal_queue:\n",
        "            current_start = start_queue.pop(0)\n",
        "            if current_start in goal_visited:\n",
        "                return True\n",
        "\n",
        "            for neighbor in self.graph[current_start]:\n",
        "                if neighbor not in start_visited:\n",
        "                    start_visited.add(neighbor)\n",
        "                    start_queue.append(neighbor)\n",
        "\n",
        "            current_goal = goal_queue.pop(0)\n",
        "            if current_goal in start_visited:\n",
        "                return True\n",
        "\n",
        "            for neighbor in self.graph[current_goal]:\n",
        "                if neighbor not in goal_visited:\n",
        "                    goal_visited.add(neighbor)\n",
        "                    goal_queue.append(neighbor)\n",
        "\n",
        "        return False\n",
        "\n",
        "g = Graph()\n",
        "g.add_edge(0, 1)\n",
        "g.add_edge(0, 2)\n",
        "g.add_edge(1, 2)\n",
        "g.add_edge(2, 0)\n",
        "g.add_edge(2, 3)\n",
        "g.add_edge(3, 3)\n",
        "\n",
        "start_node = 0\n",
        "goal_node = 3\n",
        "\n",
        "if g.bidirectional_search(start_node, goal_node):\n",
        "    print(\"Path found between\", start_node, \"and\", goal_node)\n",
        "else:\n",
        "    print(\"No path found between\", start_node, \"and\", goal_node)\n"
      ],
      "metadata": {
        "colab": {
          "base_uri": "https://localhost:8080/"
        },
        "id": "Iyo5_8qKMOuF",
        "outputId": "54186655-c45b-4ede-d64b-366a91edef94"
      },
      "execution_count": null,
      "outputs": [
        {
          "output_type": "stream",
          "name": "stdout",
          "text": [
            "Path found between 0 and 3\n"
          ]
        }
      ]
    }
  ]
}