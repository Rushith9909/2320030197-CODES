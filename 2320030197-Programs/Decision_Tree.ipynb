{
  "nbformat": 4,
  "nbformat_minor": 0,
  "metadata": {
    "colab": {
      "provenance": []
    },
    "kernelspec": {
      "name": "python3",
      "display_name": "Python 3"
    },
    "language_info": {
      "name": "python"
    }
  },
  "cells": [
    {
      "cell_type": "code",
      "execution_count": 2,
      "metadata": {
        "id": "bJF64NYPk9L1",
        "colab": {
          "base_uri": "https://localhost:8080/"
        },
        "outputId": "71afeca3-6d39-425a-dad8-be305261c457"
      },
      "outputs": [
        {
          "output_type": "stream",
          "name": "stdout",
          "text": [
            "Accuracy: 0.75\n"
          ]
        }
      ],
      "source": [
        "import pandas as pd\n",
        "from sklearn.tree import DecisionTreeClassifier\n",
        "from sklearn.model_selection import train_test_split\n",
        "from sklearn.metrics import accuracy_score\n",
        "\n",
        "data = {'outlook': ['sunny', 'sunny', 'overcast', 'rainy', 'rainy', 'rainy', 'overcast', 'sunny', 'sunny', 'rainy', 'sunny', 'overcast', 'overcast', 'rainy'],\n",
        "        'temperature': ['hot', 'hot', 'hot', 'mild', 'cool', 'cool', 'cool', 'mild', 'cool', 'mild', 'mild', 'mild', 'hot', 'mild'],\n",
        "        'humidity': ['high', 'high', 'high', 'high', 'normal', 'normal', 'normal', 'high', 'normal', 'normal', 'normal', 'high', 'normal', 'high'],\n",
        "        'windy': ['false', 'true', 'false', 'false', 'false', 'true', 'true', 'false', 'false', 'false', 'true', 'true', 'false', 'true'],\n",
        "        'play': ['no', 'no', 'yes', 'yes', 'yes', 'no', 'yes', 'no', 'yes', 'yes', 'yes', 'yes', 'yes', 'no']}\n",
        "\n",
        "df = pd.DataFrame(data)\n",
        "\n",
        "df = pd.get_dummies(df, columns=['outlook', 'temperature', 'humidity', 'windy'])\n",
        "\n",
        "X = df.drop('play', axis=1)\n",
        "y = df['play']\n",
        "\n",
        "X_train, X_test, y_train, y_test = train_test_split(X, y, test_size=0.25, random_state=42)\n",
        "\n",
        "clf = DecisionTreeClassifier()\n",
        "\n",
        "clf.fit(X_train, y_train)\n",
        "\n",
        "y_pred = clf.predict(X_test)\n",
        "\n",
        "accuracy = accuracy_score(y_test, y_pred)\n",
        "print(f\"Accuracy: {accuracy}\")\n"
      ]
    },
    {
      "cell_type": "code",
      "source": [
        "import pandas as pd\n",
        "from sklearn.tree import DecisionTreeClassifier\n",
        "from sklearn.model_selection import train_test_split\n",
        "from sklearn.metrics import accuracy_score\n",
        "from sklearn import tree\n",
        "\n",
        "data = {'Age': [25, 30, 45, 50, 28, 35, 40, 55],\n",
        "        'Income': [50000, 60000, 80000, 90000, 55000, 70000, 75000, 100000],\n",
        "        'Education': ['Bachelor', 'Master', 'PhD', 'PhD', 'Bachelor', 'Master', 'Master', 'PhD'],\n",
        "        'Loan_Default': ['No', 'No', 'No', 'Yes', 'No', 'Yes', 'No', 'Yes']}\n",
        "\n",
        "df = pd.DataFrame(data)\n",
        "\n",
        "df = pd.get_dummies(df, columns=['Education'])\n",
        "\n",
        "X = df.drop('Loan_Default', axis=1)\n",
        "y = df['Loan_Default']\n",
        "\n",
        "X_train, X_test, y_train, y_test = train_test_split(X, y, test_size=0.25, random_state=42)\n",
        "\n",
        "clf = DecisionTreeClassifier()\n",
        "\n",
        "clf.fit(X_train, y_train)\n",
        "\n",
        "y_pred = clf.predict(X_test)\n",
        "\n",
        "accuracy = accuracy_score(y_test, y_pred)\n",
        "print(f\"Accuracy: {accuracy}\")\n",
        "\n",
        "tree.export_graphviz(clf, out_file='tree.dot',\n",
        "                     feature_names=X.columns,\n",
        "                     class_names=['No', 'Yes'],\n",
        "                     filled=True, rounded=True,\n",
        "                     special_characters=True)\n"
      ],
      "metadata": {
        "colab": {
          "base_uri": "https://localhost:8080/"
        },
        "id": "A5y7_bpNmuX7",
        "outputId": "7dd560fb-3f9e-40a9-9b26-01600755e03f"
      },
      "execution_count": 4,
      "outputs": [
        {
          "output_type": "stream",
          "name": "stdout",
          "text": [
            "Accuracy: 0.5\n"
          ]
        }
      ]
    }
  ]
}