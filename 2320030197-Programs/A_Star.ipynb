{
  "nbformat": 4,
  "nbformat_minor": 0,
  "metadata": {
    "colab": {
      "provenance": []
    },
    "kernelspec": {
      "name": "python3",
      "display_name": "Python 3"
    },
    "language_info": {
      "name": "python"
    }
  },
  "cells": [
    {
      "cell_type": "code",
      "execution_count": 2,
      "metadata": {
        "colab": {
          "base_uri": "https://localhost:8080/"
        },
        "id": "Bx4JQ4sQoevx",
        "outputId": "53dd8f99-ca3c-4491-ae96-b7d470b0e017"
      },
      "outputs": [
        {
          "output_type": "stream",
          "name": "stdout",
          "text": [
            "Shortest path from (0, 0) to (1, 1): [(0, 0), (0, 1), (1, 1)]\n",
            "Total cost: 3\n"
          ]
        }
      ],
      "source": [
        "import heapq\n",
        "\n",
        "def a_star(graph, start, goal):\n",
        "\n",
        "  priority_queue = [(0, start, [])]\n",
        "  visited = set()\n",
        "\n",
        "  while priority_queue:\n",
        "    cost, current_node, path = heapq.heappop(priority_queue)\n",
        "\n",
        "    if current_node == goal:\n",
        "      return path + [current_node], cost\n",
        "\n",
        "    if current_node in visited:\n",
        "      continue\n",
        "    visited.add(current_node)\n",
        "\n",
        "    for neighbor, edge_cost in graph.get(current_node, {}).items():\n",
        "      heuristic_cost = calculate_heuristic(neighbor, goal)\n",
        "      new_cost = cost + edge_cost\n",
        "      heapq.heappush(priority_queue, (new_cost + heuristic_cost, neighbor, path + [current_node]))\n",
        "\n",
        "  return None, float('inf')\n",
        "\n",
        "\n",
        "def calculate_heuristic(node, goal):\n",
        "\n",
        "  return abs(node[0] - goal[0]) + abs(node[1] - goal[1])\n",
        "\n",
        "graph = {\n",
        "    (0, 0): {(0, 1): 1, (1, 0): 1},\n",
        "    (0, 1): {(0, 0): 1, (1, 1): 1},\n",
        "    (1, 0): {(0, 0): 1, (1, 1): 1},\n",
        "    (1, 1): {(0, 1): 1, (1, 0): 1},\n",
        "}\n",
        "\n",
        "start_node = (0, 0)\n",
        "goal_node = (1, 1)\n",
        "\n",
        "path, cost = a_star(graph, start_node, goal_node)\n",
        "\n",
        "if path:\n",
        "  print(f\"Shortest path from {start_node} to {goal_node}: {path}\")\n",
        "  print(f\"Total cost: {cost}\")\n",
        "else:\n",
        "  print(f\"No path found from {start_node} to {goal_node}.\")"
      ]
    },
    {
      "cell_type": "code",
      "source": [
        "import heapq\n",
        "\n",
        "def a_star(graph, start, goal):\n",
        "\n",
        "  priority_queue = [(0, start, [])]\n",
        "  visited = set()\n",
        "\n",
        "  while priority_queue:\n",
        "    cost, current_node, path = heapq.heappop(priority_queue)\n",
        "\n",
        "    if current_node == goal:\n",
        "      return path + [current_node], cost\n",
        "\n",
        "    if current_node in visited:\n",
        "      continue\n",
        "    visited.add(current_node)\n",
        "\n",
        "    for neighbor, edge_cost in graph.get(current_node, {}).items():\n",
        "      heuristic_cost = calculate_heuristic(neighbor, goal)\n",
        "      new_cost = cost + edge_cost\n",
        "      heapq.heappush(priority_queue, (new_cost + heuristic_cost, neighbor, path + [current_node]))\n",
        "\n",
        "  return None, float('inf')\n",
        "\n",
        "\n",
        "def calculate_heuristic(node, goal):\n",
        "\n",
        "  return abs(node[0] - goal[0]) + abs(node[1] - goal[1])\n",
        "\n",
        "\n",
        "graph = {\n",
        "    (0, 0): {(0, 1): 1, (1, 0): 1},\n",
        "    (0, 1): {(0, 0): 1, (1, 1): 1},\n",
        "    (1, 0): {(0, 0): 1, (1, 1): 1},\n",
        "    (1, 1): {(0, 1): 1, (1, 0): 1},\n",
        "}\n",
        "\n",
        "start_node = (0, 0)\n",
        "goal_node = (1, 0)\n",
        "\n",
        "path, cost = a_star(graph, start_node, goal_node)\n",
        "\n",
        "if path:\n",
        "  print(f\"Shortest path from {start_node} to {goal_node}: {path}\")\n",
        "  print(f\"Total cost: {cost}\")\n",
        "else:\n",
        "  print(f\"No path found from {start_node} to {goal_node}.\")"
      ],
      "metadata": {
        "colab": {
          "base_uri": "https://localhost:8080/"
        },
        "id": "1F74GcEco4o8",
        "outputId": "c97c6c01-9c57-4bdd-bfbf-0264b4079aff"
      },
      "execution_count": 8,
      "outputs": [
        {
          "output_type": "stream",
          "name": "stdout",
          "text": [
            "Shortest path from (0, 0) to (1, 0): [(0, 0), (1, 0)]\n",
            "Total cost: 1\n"
          ]
        }
      ]
    }
  ]
}