{
  "nbformat": 4,
  "nbformat_minor": 0,
  "metadata": {
    "colab": {
      "provenance": []
    },
    "kernelspec": {
      "name": "python3",
      "display_name": "Python 3"
    },
    "language_info": {
      "name": "python"
    }
  },
  "cells": [
    {
      "cell_type": "code",
      "execution_count": 2,
      "metadata": {
        "colab": {
          "base_uri": "https://localhost:8080/"
        },
        "id": "NXyUdhIlnaEN",
        "outputId": "d5c0b3ac-0670-4801-a34b-691dacf54083"
      },
      "outputs": [
        {
          "output_type": "stream",
          "name": "stdout",
          "text": [
            "New position: (5, 2)\n",
            "New position: (6, 0)\n",
            "New position: (10, -5)\n",
            "New position: (6, -4)\n",
            "New position: (11, -2)\n",
            "New position: (7, 2)\n",
            "New position: (9, 1)\n",
            "New position: (4, 6)\n",
            "New position: (2, 8)\n",
            "New position: (-3, 3)\n"
          ]
        }
      ],
      "source": [
        "import random\n",
        "import time\n",
        "\n",
        "def random_movement(x, y, max_step):\n",
        "\n",
        "  dx = random.randint(-max_step, max_step)\n",
        "  dy = random.randint(-max_step, max_step)\n",
        "  new_x = x + dx\n",
        "  new_y = y + dy\n",
        "  return new_x, new_y\n",
        "\n",
        "x = 0\n",
        "y = 0\n",
        "\n",
        "max_step = 5\n",
        "\n",
        "num_iterations = 10\n",
        "\n",
        "\n",
        "for _ in range(num_iterations):\n",
        "  x, y = random_movement(x, y, max_step)\n",
        "  print(f\"New position: ({x}, {y})\")\n",
        "  time.sleep(0.5)"
      ]
    },
    {
      "cell_type": "code",
      "source": [
        "import random\n",
        "import time\n",
        "\n",
        "def random_walk(x, y, max_step):\n",
        "\n",
        "  directions = [(1, 0), (-1, 0), (0, 1), (0, -1)]\n",
        "  dx, dy = random.choice(directions)\n",
        "  step_size = random.randint(1, max_step)\n",
        "  new_x = x + dx * step_size\n",
        "  new_y = y + dy * step_size\n",
        "  return new_x, new_y\n",
        "\n",
        "\n",
        "x = 0\n",
        "y = 0\n",
        "max_step = 3\n",
        "num_iterations = 15\n",
        "\n",
        "for _ in range(num_iterations):\n",
        "  x, y = random_walk(x, y, max_step)\n",
        "  print(f\"New position: ({x}, {y})\")\n",
        "  time.sleep(0.5)"
      ],
      "metadata": {
        "colab": {
          "base_uri": "https://localhost:8080/"
        },
        "id": "cwEyvMuynu_1",
        "outputId": "d1cc99e3-f0f2-4024-9b6b-3274248ad1ee"
      },
      "execution_count": 4,
      "outputs": [
        {
          "output_type": "stream",
          "name": "stdout",
          "text": [
            "New position: (0, 1)\n",
            "New position: (3, 1)\n",
            "New position: (2, 1)\n",
            "New position: (2, 3)\n",
            "New position: (2, 2)\n",
            "New position: (2, 4)\n",
            "New position: (2, 7)\n",
            "New position: (2, 9)\n",
            "New position: (4, 9)\n",
            "New position: (2, 9)\n",
            "New position: (2, 7)\n",
            "New position: (2, 5)\n",
            "New position: (2, 2)\n",
            "New position: (4, 2)\n",
            "New position: (4, 3)\n"
          ]
        }
      ]
    },
    {
      "cell_type": "code",
      "source": [
        "import random\n",
        "import time\n",
        "\n",
        "def biased_random_walk(x, y, max_step, bias_direction):\n",
        "\n",
        "\n",
        "  directions = [(1, 0), (-1, 0), (0, 1), (0, -1)]\n",
        "\n",
        "  biased_directions = [bias_direction] * 3 + [\n",
        "      d for d in directions if d != bias_direction\n",
        "  ]\n",
        "\n",
        "  dx, dy = random.choice(biased_directions)\n",
        "  step_size = random.randint(1, max_step)\n",
        "  new_x = x + dx * step_size\n",
        "  new_y = y + dy * step_size\n",
        "\n",
        "  return new_x, new_y\n",
        "\n",
        "\n",
        "x = 0\n",
        "y = 0\n",
        "max_step = 3\n",
        "bias_direction = (1, 0)\n",
        "num_iterations = 15\n",
        "\n",
        "for _ in range(num_iterations):\n",
        "  x, y = biased_random_walk(x, y, max_step, bias_direction)\n",
        "  print(f\"New position: ({x}, {y})\")\n",
        "  time.sleep(0.5)"
      ],
      "metadata": {
        "colab": {
          "base_uri": "https://localhost:8080/"
        },
        "id": "pdcmhLbTn83Y",
        "outputId": "67ff0b0e-6345-4384-c722-08e052048538"
      },
      "execution_count": 6,
      "outputs": [
        {
          "output_type": "stream",
          "name": "stdout",
          "text": [
            "New position: (3, 0)\n",
            "New position: (3, -3)\n",
            "New position: (3, 0)\n",
            "New position: (4, 0)\n",
            "New position: (2, 0)\n",
            "New position: (3, 0)\n",
            "New position: (3, 3)\n",
            "New position: (2, 3)\n",
            "New position: (4, 3)\n",
            "New position: (1, 3)\n",
            "New position: (4, 3)\n",
            "New position: (3, 3)\n",
            "New position: (4, 3)\n",
            "New position: (5, 3)\n",
            "New position: (8, 3)\n"
          ]
        }
      ]
    }
  ]
}