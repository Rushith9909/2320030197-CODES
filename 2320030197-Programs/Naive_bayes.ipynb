{
  "nbformat": 4,
  "nbformat_minor": 0,
  "metadata": {
    "colab": {
      "provenance": []
    },
    "kernelspec": {
      "name": "python3",
      "display_name": "Python 3"
    },
    "language_info": {
      "name": "python"
    }
  },
  "cells": [
    {
      "cell_type": "code",
      "execution_count": 2,
      "metadata": {
        "colab": {
          "base_uri": "https://localhost:8080/"
        },
        "id": "sO2davbRqEi0",
        "outputId": "01a4f4be-6454-4e13-a9ed-953320f79b55"
      },
      "outputs": [
        {
          "output_type": "stream",
          "name": "stdout",
          "text": [
            "Accuracy: 0.75\n"
          ]
        }
      ],
      "source": [
        "import numpy as np\n",
        "from sklearn.model_selection import train_test_split\n",
        "from sklearn.naive_bayes import GaussianNB\n",
        "from sklearn.metrics import accuracy_score\n",
        "\n",
        "X = np.array([\n",
        "    ['Sunny', 'Hot', 'High'],\n",
        "    ['Sunny', 'Hot', 'High'],\n",
        "    ['Overcast', 'Hot', 'High'],\n",
        "    ['Rainy', 'Mild', 'High'],\n",
        "    ['Rainy', 'Cool', 'Normal'],\n",
        "    ['Rainy', 'Cool', 'Normal'],\n",
        "    ['Overcast', 'Cool', 'Normal'],\n",
        "    ['Sunny', 'Mild', 'High'],\n",
        "    ['Sunny', 'Cool', 'Normal'],\n",
        "    ['Rainy', 'Mild', 'Normal'],\n",
        "    ['Sunny', 'Mild', 'Normal'],\n",
        "    ['Overcast', 'Mild', 'High'],\n",
        "    ['Overcast', 'Hot', 'Normal'],\n",
        "    ['Rainy', 'Mild', 'High']\n",
        "])\n",
        "\n",
        "y = np.array(['No', 'No', 'Yes', 'Yes', 'Yes', 'No', 'Yes', 'No', 'Yes', 'Yes', 'Yes', 'Yes', 'Yes', 'No'])\n",
        "\n",
        "from sklearn.preprocessing import LabelEncoder, OneHotEncoder\n",
        "\n",
        "le = LabelEncoder()\n",
        "for i in range(X.shape[1]):\n",
        "  X[:, i] = le.fit_transform(X[:, i])\n",
        "\n",
        "ohe = OneHotEncoder()\n",
        "X = ohe.fit_transform(X).toarray()\n",
        "\n",
        "X_train, X_test, y_train, y_test = train_test_split(X, y, test_size=0.25, random_state=42)\n",
        "\n",
        "model = GaussianNB()\n",
        "model.fit(X_train, y_train)\n",
        "\n",
        "y_pred = model.predict(X_test)\n",
        "\n",
        "accuracy = accuracy_score(y_test, y_pred)\n",
        "print(\"Accuracy:\", accuracy)"
      ]
    }
  ]
}