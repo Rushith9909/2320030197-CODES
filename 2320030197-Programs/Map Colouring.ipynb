{
  "nbformat": 4,
  "nbformat_minor": 0,
  "metadata": {
    "colab": {
      "provenance": []
    },
    "kernelspec": {
      "name": "python3",
      "display_name": "Python 3"
    },
    "language_info": {
      "name": "python"
    }
  },
  "cells": [
    {
      "cell_type": "code",
      "execution_count": null,
      "metadata": {
        "id": "uz-JiACVgOXO"
      },
      "outputs": [],
      "source": [
        "def is_safe(graph, vertex, color, assignment):\n",
        "  for neighbor in graph[vertex]:\n",
        "    if neighbor in assignment and assignment[neighbor] == color:\n",
        "      return False\n",
        "  return True\n",
        "def map_coloring(graph, colors):\n",
        "  assignment = {}\n",
        "  def backtrack(vertex):\n",
        "    if vertex == len(graph):\n",
        "      return True\n",
        "    for color in colors:\n",
        "      if is_safe(graph, vertex, color, assignment):\n",
        "        assignment[vertex] = color\n",
        "        if backtrack(vertex + 1):\n",
        "          return True\n",
        "        del assignment[vertex]\n",
        "    return False\n",
        "  if backtrack(0):\n",
        "    return assignment\n",
        "  else:\n",
        "    return None\n",
        "graph = {\n",
        "  0: [1, 2],\n",
        "  1: [0, 2, 3],\n",
        "  2: [0, 1, 3],\n",
        "  3: [1, 2]\n",
        "}\n",
        "colors = ['Red', 'Green', 'Blue']\n",
        "\n",
        "result = map_coloring(graph, colors)\n",
        "if result:\n",
        "  print(\"Map coloring solution:\")\n",
        "  for vertex, color in result.items():\n",
        "    print(f\"Vertex {vertex}: {color}\")\n",
        "else:\n",
        "  print(\"No solution found.\")"
      ]
    }
  ]
}